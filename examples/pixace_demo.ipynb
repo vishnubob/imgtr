{
  "nbformat": 4,
  "nbformat_minor": 0,
  "metadata": {
    "colab": {
      "name": "pixace-demo.ipynb",
      "provenance": [],
      "collapsed_sections": [],
      "authorship_tag": "ABX9TyMMZwzlYwxfMoc/NjvI1E3v",
      "include_colab_link": true
    },
    "kernelspec": {
      "name": "python3",
      "display_name": "Python 3"
    },
    "accelerator": "GPU"
  },
  "cells": [
    {
      "cell_type": "markdown",
      "metadata": {
        "id": "view-in-github",
        "colab_type": "text"
      },
      "source": [
        "<a href=\"https://colab.research.google.com/github/vishnubob/pixace/blob/main/examples/pixace_demo.ipynb\" target=\"_parent\"><img src=\"https://colab.research.google.com/assets/colab-badge.svg\" alt=\"Open In Colab\"/></a>"
      ]
    },
    {
      "cell_type": "markdown",
      "metadata": {
        "id": "0BILqhusSZYa"
      },
      "source": [
        "# Pixace"
      ]
    },
    {
      "cell_type": "code",
      "metadata": {
        "id": "7zS6Bz2N6QO-"
      },
      "source": [
        "%load_ext tensorboard\r\n",
        "\r\n",
        "# download and install the latest version of pixace\r\n",
        "!sudo pip install -qqq -U \\\r\n",
        "  https://github.com/vishnubob/pixace/archive/main.zip\r\n",
        "  \r\n",
        "import pixace"
      ],
      "execution_count": null,
      "outputs": []
    },
    {
      "cell_type": "code",
      "metadata": {
        "id": "INs70ura6pvo"
      },
      "source": [
        "# download the animalfaces model\r\n",
        "\r\n",
        "pixace.download_model(model_name=\"animalfaces\")"
      ],
      "execution_count": null,
      "outputs": []
    },
    {
      "cell_type": "code",
      "metadata": {
        "id": "dYTnTjIJa04I"
      },
      "source": [
        "# generate a new animal face from scratch\r\n",
        "\r\n",
        "predictor = pixace.get_predictor(model_name=\"animalfaces\")\r\n",
        "predictor.predict()"
      ],
      "execution_count": null,
      "outputs": []
    },
    {
      "cell_type": "code",
      "metadata": {
        "id": "MF-bBmm7Wtxb"
      },
      "source": [
        "# use two images from the web as image prompts\r\n",
        "\r\n",
        "url_1 = \"https://github.com/vishnubob/pixace/raw/main/examples/prompts/prompt_1.jpg\"\r\n",
        "url_2 = \"https://github.com/vishnubob/pixace/raw/main/examples/prompts/prompt_2.jpg\"\r\n",
        "prompts = [url_1, url_2]\r\n",
        "predictor.predict(prompts=prompts, cut=512)"
      ],
      "execution_count": null,
      "outputs": []
    },
    {
      "cell_type": "code",
      "metadata": {
        "id": "FdZoseHSJGLA"
      },
      "source": [
        "# download emoji image set to use for training\r\n",
        "\r\n",
        "import os\r\n",
        "import io\r\n",
        "from zipfile import ZipFile\r\n",
        "import requests\r\n",
        "\r\n",
        "def download_and_extract(url, out=\"data\"):\r\n",
        "  resp = requests.get(url)\r\n",
        "  fh = io.BytesIO(resp.content)\r\n",
        "  fh.seek(0)\r\n",
        "  with ZipFile(fh) as arc:\r\n",
        "    arc.extractall(out)\r\n",
        "\r\n",
        "url = \"https://github.com/googlefonts/noto-emoji/archive/master.zip\"\r\n",
        "weight_dir = \"model-weights\"\r\n",
        "out = \"emoji-data\"\r\n",
        "images = f\"{out}/noto-emoji-master/png/128\"\r\n",
        "\r\n",
        "download_and_extract(url, out)\r\n",
        "os.makedirs(weight_dir, exist_ok=True)\r\n",
        "\r\n",
        "%tensorboard --logdir model-weights"
      ],
      "execution_count": null,
      "outputs": []
    },
    {
      "cell_type": "code",
      "metadata": {
        "id": "QjmttBJaNywg"
      },
      "source": [
        "# train a new model on the emoji image dataset\r\n",
        "# visualize samples from training by clicking on the tensorboard images tab above \r\n",
        "# this training run will take about 20 minutes\r\n",
        "# you should have enough time to make yourself and eat a sandwich\r\n",
        "\r\n",
        "trainer = pixace.get_trainer(model_name=\"emoji\")\r\n",
        "trainer.train(\r\n",
        "    steps_per_epoch=100,\r\n",
        "    images=images,\r\n",
        "    batch_size=16,\r\n",
        "    n_epochs=5\r\n",
        "  )"
      ],
      "execution_count": null,
      "outputs": []
    },
    {
      "cell_type": "code",
      "metadata": {
        "id": "RMwZUBgnOR66"
      },
      "source": [
        "# use your new emoji model to generate new emojis\r\n",
        "\r\n",
        "predictor = pixace.get_predictor(model_name=\"emoji\")\r\n",
        "predictor.predict(batch_size=2, temperature=(0.9, 1, 1.1))"
      ],
      "execution_count": null,
      "outputs": []
    }
  ]
}